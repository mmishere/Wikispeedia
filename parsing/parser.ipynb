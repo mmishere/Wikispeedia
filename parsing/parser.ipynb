{
 "cells": [
  {
   "cell_type": "markdown",
   "id": "10529801",
   "metadata": {},
   "source": [
    "**put `wpcd/` folder in same directory as this notebook**\n",
    "\n",
    "links and stuff\n",
    "\n",
    "- [percent decoding urls](https://stackoverflow.com/questions/28884947/is-there-a-function-in-python-to-convert-html-entities-to-percent-encoding)"
   ]
  },
  {
   "cell_type": "code",
   "execution_count": 3,
   "id": "f57018a8",
   "metadata": {},
   "outputs": [],
   "source": [
    "from bs4 import BeautifulSoup\n",
    "import string\n",
    "from urllib.parse import unquote\n",
    "\n",
    "PATH = 'wpcd/wp/'"
   ]
  },
  {
   "cell_type": "code",
   "execution_count": 4,
   "id": "881e0ec6",
   "metadata": {},
   "outputs": [],
   "source": [
    "def sub_index_links(sub_index : str) -> list:\n",
    "    output = []\n",
    "\n",
    "    with open(f'{PATH}/index/{sub_index}', 'r', encoding = 'utf8') as fp:\n",
    "        filecontents = fp.read()\n",
    "    soup = BeautifulSoup(filecontents, 'html.parser')\n",
    "\n",
    "    for link in soup.find_all('a', href = True):\n",
    "        if link['href'][:9] == '../../wp/':\n",
    "            output.append(link['href'][9:])\n",
    "    return output\n",
    "def page_links(page_url: str) -> list:\n",
    "    output = []\n",
    "\n",
    "    with open(f'{PATH}/{unquote(page_url)}', 'r', encoding = 'utf8') as fp:\n",
    "        filecontents = fp.read()\n",
    "    page_soup = BeautifulSoup(filecontents, 'html.parser')\n",
    "\n",
    "    for link in page_soup.find_all('a', href = True):\n",
    "        if (link['href'][:9] == '../../wp/'):\n",
    "            output.append(link['href'][9:])\n",
    "    return output\n",
    "def title(page_url: str) -> str:\n",
    "    with open(f'{PATH}/{unquote(page_url)}', 'r', encoding = 'utf8') as fp:\n",
    "        filecontents = fp.read()\n",
    "    page_soup = BeautifulSoup(filecontents, 'html.parser')\n",
    "\n",
    "    if (len(page_soup.find_all('h1')) > 1):\n",
    "        print(f'multiple h1 tags found at {page_url}')\n",
    "\n",
    "    return page_soup.find('h1').get_text()"
   ]
  },
  {
   "cell_type": "code",
   "execution_count": 5,
   "id": "50bb0d20",
   "metadata": {},
   "outputs": [],
   "source": [
    "index = list(string.ascii_lowercase) #list of sub-index pages\n",
    "index.append('others')"
   ]
  },
  {
   "cell_type": "code",
   "execution_count": 6,
   "id": "ce29bcbd",
   "metadata": {},
   "outputs": [
    {
     "name": "stdout",
     "output_type": "stream",
     "text": [
      "a-list.htm\n",
      "b-list.htm\n",
      "c-list.htm\n",
      "d-list.htm\n",
      "e-list.htm\n",
      "f-list.htm\n",
      "g-list.htm\n",
      "h-list.htm\n",
      "i-list.htm\n",
      "j-list.htm\n",
      "k-list.htm\n",
      "l-list.htm\n",
      "m-list.htm\n",
      "n-list.htm\n",
      "o-list.htm\n",
      "p-list.htm\n",
      "q-list.htm\n",
      "r-list.htm\n",
      "s-list.htm\n",
      "t-list.htm\n",
      "u-list.htm\n",
      "v-list.htm\n",
      "w-list.htm\n",
      "x-list.htm\n",
      "y-list.htm\n",
      "z-list.htm\n",
      "others-list.htm\n"
     ]
    }
   ],
   "source": [
    "for sub_index in [f'{name}-list.htm' for name in index]:\n",
    "    print(sub_index)"
   ]
  },
  {
   "cell_type": "code",
   "execution_count": 7,
   "id": "fcf59d28",
   "metadata": {},
   "outputs": [
    {
     "data": {
      "text/plain": [
       "'El Aaiún'"
      ]
     },
     "execution_count": 7,
     "metadata": {},
     "output_type": "execute_result"
    }
   ],
   "source": [
    "page_url = 'e/El_Aai%25C3%25BAn.htm'\n",
    "\n",
    "title(page_url)"
   ]
  },
  {
   "cell_type": "code",
   "execution_count": 8,
   "id": "1fb1a16f",
   "metadata": {},
   "outputs": [
    {
     "data": {
      "text/plain": [
       "['a/Arabic_language.htm',\n",
       " 'w/Western_Sahara.htm',\n",
       " 's/Spain.htm',\n",
       " 'm/Morocco.htm',\n",
       " 'w/Western_Sahara.htm',\n",
       " 'u/United_Nations.htm',\n",
       " 'm/Morocco.htm',\n",
       " 'a/Algeria.htm',\n",
       " 'w/Wikipedia_Text_of_the_GNU_Free_Documentation_License.htm']"
      ]
     },
     "execution_count": 8,
     "metadata": {},
     "output_type": "execute_result"
    }
   ],
   "source": [
    "page_links(page_url)"
   ]
  },
  {
   "cell_type": "code",
   "execution_count": 9,
   "id": "56d0e743",
   "metadata": {},
   "outputs": [],
   "source": [
    "def make_edge(title_list: list, start: str, end: str):\n",
    "    return(title_list.index(start) + 1, title_list.index(end) + 1)"
   ]
  },
  {
   "cell_type": "code",
   "execution_count": 14,
   "id": "0f455c8c",
   "metadata": {},
   "outputs": [
    {
     "name": "stdout",
     "output_type": "stream",
     "text": [
      "scanning a-list.htm\n"
     ]
    }
   ],
   "source": [
    "# no idea if it actually works, have to do some testing\n",
    "\n",
    "all_links = []\n",
    "\n",
    "with open('nodes.txt', 'w') as node_file, open('edges.txt', 'w') as edge_file:\n",
    "\n",
    "    for sub_index in [f'{name}-list.htm' for name in index]:\n",
    "        print(f'scanning {sub_index}')\n",
    "        for link in sub_index_links(sub_index):\n",
    "            if link in all_links:\n",
    "                continue\n",
    "            else:\n",
    "                all_links.append(link)\n",
    "                print(link, file = node_file)\n",
    "\n",
    "            for page_link in page_links(link):\n",
    "                if page_link in all_links:\n",
    "                    continue\n",
    "                else:\n",
    "                    all_links.append(page_link)\n",
    "                    edges = make_edge(all_links, link, page_link)\n",
    "                    print(f'{edges[0]} {edges[1]}', file = edge_file)\n",
    "        break # just end after a-list.htm for now\n",
    "\n",
    "\n",
    "    "
   ]
  }
 ],
 "metadata": {
  "kernelspec": {
   "display_name": "Python 3",
   "language": "python",
   "name": "python3"
  },
  "language_info": {
   "codemirror_mode": {
    "name": "ipython",
    "version": 3
   },
   "file_extension": ".py",
   "mimetype": "text/x-python",
   "name": "python",
   "nbconvert_exporter": "python",
   "pygments_lexer": "ipython3",
   "version": "3.9.6"
  }
 },
 "nbformat": 4,
 "nbformat_minor": 5
}
