{
 "cells": [
  {
   "cell_type": "code",
   "execution_count": 12,
   "metadata": {},
   "outputs": [],
   "source": [
    "from urllib.parse import unquote\n",
    "import csv\n",
    "\n",
    "SKIPPED_LINES = 12"
   ]
  },
  {
   "cell_type": "code",
   "execution_count": 45,
   "metadata": {},
   "outputs": [],
   "source": [
    "nodes = []\n",
    "edges = []\n",
    "\n",
    "with open('links.tsv', encoding='utf8') as file:\n",
    "    tsv = csv.reader(file, delimiter='\\t')\n",
    "    for _ in range(SKIPPED_LINES):\n",
    "        next(tsv)\n",
    "    for line in tsv:\n",
    "        # print(line)\n",
    "\n",
    "        start = unquote(line[0])\n",
    "        end = unquote(line[1])\n",
    "        if start not in nodes:\n",
    "            nodes.append(start)\n",
    "        if end not in nodes:\n",
    "            nodes.append(end)\n",
    "        \n",
    "        edge = (nodes.index(start), nodes.index(end))\n",
    "        edges.append(edge)\n",
    "\n",
    "with open('nodes.txt', 'w', encoding='utf8') as node_file:\n",
    "    for node in nodes:\n",
    "        print(node, file=node_file)\n",
    "\n",
    "with open('edges.txt', 'w', encoding='utf8') as edge_file:\n",
    "    for edge in edges:\n",
    "        print(edge[0], edge[1], file=edge_file)"
   ]
  }
 ],
 "metadata": {
  "interpreter": {
   "hash": "22be46ea1e7488a9becb97ad5659325157d63e687704b0cffdc9f408d6dfd1f8"
  },
  "kernelspec": {
   "display_name": "Python 3.9.6 64-bit",
   "language": "python",
   "name": "python3"
  },
  "language_info": {
   "codemirror_mode": {
    "name": "ipython",
    "version": 3
   },
   "file_extension": ".py",
   "mimetype": "text/x-python",
   "name": "python",
   "nbconvert_exporter": "python",
   "pygments_lexer": "ipython3",
   "version": "3.9.6"
  },
  "orig_nbformat": 4
 },
 "nbformat": 4,
 "nbformat_minor": 2
}
